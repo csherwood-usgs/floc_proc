{
 "cells": [
  {
   "cell_type": "code",
   "execution_count": 11,
   "metadata": {
    "collapsed": false
   },
   "outputs": [
    {
     "name": "stdout",
     "output_type": "stream",
     "text": [
      "Quad target\n",
      "41 20 1.5283, -70 33 56.5910\n",
      "41 20.0254716667 , -70  33.9431833333\n",
      "41.3337578611 -70.5657197222\n"
     ]
    }
   ],
   "source": [
    "print 'Quad target'\n",
    "print '41 20 1.5283, -70 33 56.5910'\n",
    "print '41',20+1.5283/60.,', -70 ',33+56.5910/60.\n",
    "print 41.+(20.+1.5283/60.)/60., -(70.+(33.+56.5910/60.)/60.)"
   ]
  },
  {
   "cell_type": "code",
   "execution_count": 12,
   "metadata": {
    "collapsed": false
   },
   "outputs": [
    {
     "name": "stdout",
     "output_type": "stream",
     "text": [
      "NIMBBLE target\n",
      "41 20 1.4859, -70 33 50.8450\n",
      "41 20.024765 , -70  33.8474166667\n",
      "41.3337460833 -70.5641236111\n"
     ]
    }
   ],
   "source": [
    "print 'NIMBBLE target'\n",
    "print \"41 20 1.4859, -70 33 50.8450\"\n",
    "print '41',20.+1.4859/60.,', -70 ',33.+50.8450/60.\n",
    "print 41.+(20.+1.4859/60.)/60., -(70.+(33+50.8450/60.)/60.)"
   ]
  },
  {
   "cell_type": "code",
   "execution_count": null,
   "metadata": {
    "collapsed": true
   },
   "outputs": [],
   "source": []
  }
 ],
 "metadata": {
  "kernelspec": {
   "display_name": "Python 2",
   "language": "python",
   "name": "python2"
  },
  "language_info": {
   "codemirror_mode": {
    "name": "ipython",
    "version": 2
   },
   "file_extension": ".py",
   "mimetype": "text/x-python",
   "name": "python",
   "nbconvert_exporter": "python",
   "pygments_lexer": "ipython2",
   "version": "2.7.9"
  }
 },
 "nbformat": 4,
 "nbformat_minor": 0
}
